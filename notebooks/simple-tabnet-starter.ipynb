{
 "cells": [
  {
   "cell_type": "markdown",
   "id": "metric-damages",
   "metadata": {
    "papermill": {
     "duration": 0.013222,
     "end_time": "2021-05-04T03:12:03.511753",
     "exception": false,
     "start_time": "2021-05-04T03:12:03.498531",
     "status": "completed"
    },
    "tags": []
   },
   "source": [
    "![](https://github.com/SauravMaheshkar/Tabular-Playground-Series-May-2021/blob/main/assets/Banner.png?raw=true)"
   ]
  },
  {
   "cell_type": "markdown",
   "id": "unknown-irish",
   "metadata": {
    "papermill": {
     "duration": 0.012525,
     "end_time": "2021-05-04T03:12:03.536577",
     "exception": false,
     "start_time": "2021-05-04T03:12:03.524052",
     "status": "completed"
    },
    "tags": []
   },
   "source": [
    "# Table of Content\n",
    "\n",
    "1. [Packages 📦 and Basic Setup](#basic)\n",
    "2. [Pre-Processing 👎🏻 -> 👍](#pre)\n",
    "3. [The Model 👷‍♀️](#model)\n",
    "4. [Training 💪🏻](#train)"
   ]
  },
  {
   "cell_type": "markdown",
   "id": "surprising-bullet",
   "metadata": {
    "papermill": {
     "duration": 0.012119,
     "end_time": "2021-05-04T03:12:03.560962",
     "exception": false,
     "start_time": "2021-05-04T03:12:03.548843",
     "status": "completed"
    },
    "tags": []
   },
   "source": [
    "<a id = 'basic'></a>\n",
    "<h1 style=\"background-color:black;color:white;padding:10px; height: 50px;\"> <center>Packages 📦 and Basic Setup</center> </h1>\n",
    "\n",
    "Initiially introduced in the paper titled [**\"TabNet: Attentive Interpretable Tabular Learning\"**](https://arxiv.org/pdf/1908.07442.pdf), TabNet is a novel high-performance and interpretable canonical deep tabular data learning architecture. It uses sequential attention to choose which features to reason\n",
    "from at each decision step, enabling interpretability and more efficient learning as the learning capacity is used for the most salient features.\n",
    "\n",
    "![](https://github.com/SauravMaheshkar/Tabular-Playground-Series-May-2021/blob/main/assets/tabnet.png?raw=true)\n",
    "\n",
    "A Pytorch Implementation of Tabnet has been made available by the team at [dreamquark-ai](https://github.com/dreamquark-ai/tabnet). We can simply install the package using `pip`.\n",
    "\n",
    "```\n",
    "pip install pytorch-tabnet\n",
    "```\n",
    "\n",
    "This kernel aims to be a starter notebook for you to add your own pre-processing / parameters."
   ]
  },
  {
   "cell_type": "code",
   "execution_count": 1,
   "id": "absent-constraint",
   "metadata": {
    "_cell_guid": "b1076dfc-b9ad-4769-8c92-a6c4dae69d19",
    "_kg_hide-input": true,
    "_kg_hide-output": true,
    "_uuid": "8f2839f25d086af736a60e9eeb907d3b93b6e0e5",
    "execution": {
     "iopub.execute_input": "2021-05-04T03:12:03.589255Z",
     "iopub.status.busy": "2021-05-04T03:12:03.588259Z",
     "iopub.status.idle": "2021-05-04T03:12:11.453004Z",
     "shell.execute_reply": "2021-05-04T03:12:11.452185Z"
    },
    "papermill": {
     "duration": 7.879928,
     "end_time": "2021-05-04T03:12:11.453174",
     "exception": false,
     "start_time": "2021-05-04T03:12:03.573246",
     "status": "completed"
    },
    "tags": []
   },
   "outputs": [],
   "source": [
    "%%capture\n",
    "!pip install pytorch-tabnet"
   ]
  },
  {
   "cell_type": "code",
   "execution_count": 2,
   "id": "overhead-investigation",
   "metadata": {
    "execution": {
     "iopub.execute_input": "2021-05-04T03:12:11.484355Z",
     "iopub.status.busy": "2021-05-04T03:12:11.483480Z",
     "iopub.status.idle": "2021-05-04T03:12:13.959436Z",
     "shell.execute_reply": "2021-05-04T03:12:13.958812Z"
    },
    "papermill": {
     "duration": 2.49369,
     "end_time": "2021-05-04T03:12:13.959571",
     "exception": false,
     "start_time": "2021-05-04T03:12:11.465881",
     "status": "completed"
    },
    "tags": []
   },
   "outputs": [],
   "source": [
    "import torch\n",
    "import numpy as np\n",
    "import pandas as pd\n",
    "import matplotlib.pyplot as plt\n",
    "from sklearn.preprocessing import LabelEncoder\n",
    "from pytorch_tabnet.tab_model import TabNetClassifier\n",
    "from pytorch_tabnet.pretraining import TabNetPretrainer\n",
    "\n",
    "train = pd.read_csv(\"../input/tabular-playground-series-may-2021/train.csv\")"
   ]
  },
  {
   "cell_type": "markdown",
   "id": "blank-produce",
   "metadata": {
    "papermill": {
     "duration": 0.011824,
     "end_time": "2021-05-04T03:12:13.983714",
     "exception": false,
     "start_time": "2021-05-04T03:12:13.971890",
     "status": "completed"
    },
    "tags": []
   },
   "source": [
    "<a id = 'pre'></a>\n",
    "<h1 style=\"background-color:black;color:white;padding:10px; height: 50px;\"> <center>Pre-Processing 👎🏻 -> 👍</center> </h1>"
   ]
  },
  {
   "cell_type": "markdown",
   "id": "lined-negotiation",
   "metadata": {
    "papermill": {
     "duration": 0.011785,
     "end_time": "2021-05-04T03:12:14.007423",
     "exception": false,
     "start_time": "2021-05-04T03:12:13.995638",
     "status": "completed"
    },
    "tags": []
   },
   "source": [
    "Upon a closer look, we realize that most features are left skewed in this dataset. Thus, Normalization seems ideal.\n",
    "\n",
    "<center><img src=\"https://github.com/SauravMaheshkar/Tabular-Playground-Series-May-2021/blob/main/assets/feature_distribution.png?raw=true\"></center>\n",
    "\n",
    "> Image taken from [TPS-May: Categorical EDA](https://www.kaggle.com/subinium/tps-may-categorical-eda)"
   ]
  },
  {
   "cell_type": "code",
   "execution_count": 3,
   "id": "studied-jumping",
   "metadata": {
    "execution": {
     "iopub.execute_input": "2021-05-04T03:12:14.043981Z",
     "iopub.status.busy": "2021-05-04T03:12:14.043408Z",
     "iopub.status.idle": "2021-05-04T03:12:17.670116Z",
     "shell.execute_reply": "2021-05-04T03:12:17.669601Z"
    },
    "papermill": {
     "duration": 3.650726,
     "end_time": "2021-05-04T03:12:17.670247",
     "exception": false,
     "start_time": "2021-05-04T03:12:14.019521",
     "status": "completed"
    },
    "tags": []
   },
   "outputs": [],
   "source": [
    "# Normalization\n",
    "for i in range(50):\n",
    "    mean, std = train[f'feature_{i}'].mean(), train[f'feature_{i}'].std()\n",
    "    train[f'feature_{i}'] = train[f'feature_{i}'].apply(lambda x : (x-mean)/std)"
   ]
  },
  {
   "cell_type": "markdown",
   "id": "lovely-latest",
   "metadata": {
    "papermill": {
     "duration": 0.011891,
     "end_time": "2021-05-04T03:12:17.694380",
     "exception": false,
     "start_time": "2021-05-04T03:12:17.682489",
     "status": "completed"
    },
    "tags": []
   },
   "source": [
    "We'll split the dataset into a **80-10-10** split for training, validation and test respectively."
   ]
  },
  {
   "cell_type": "code",
   "execution_count": 4,
   "id": "sudden-button",
   "metadata": {
    "execution": {
     "iopub.execute_input": "2021-05-04T03:12:17.723903Z",
     "iopub.status.busy": "2021-05-04T03:12:17.723302Z",
     "iopub.status.idle": "2021-05-04T03:12:17.809045Z",
     "shell.execute_reply": "2021-05-04T03:12:17.808451Z"
    },
    "papermill": {
     "duration": 0.102882,
     "end_time": "2021-05-04T03:12:17.809177",
     "exception": false,
     "start_time": "2021-05-04T03:12:17.706295",
     "status": "completed"
    },
    "tags": []
   },
   "outputs": [],
   "source": [
    "# Train, Test, Validation Split\n",
    "target = 'target'\n",
    "if \"Set\" not in train.columns:\n",
    "    train[\"Set\"] = np.random.choice([\"train\", \"valid\", \"test\"], p =[.8, .1, .1], size=(train.shape[0],))\n",
    "\n",
    "train_indices = train[train.Set==\"train\"].index\n",
    "valid_indices = train[train.Set==\"valid\"].index\n",
    "test_indices = train[train.Set==\"test\"].index"
   ]
  },
  {
   "cell_type": "markdown",
   "id": "ready-albania",
   "metadata": {
    "papermill": {
     "duration": 0.012191,
     "end_time": "2021-05-04T03:12:17.833781",
     "exception": false,
     "start_time": "2021-05-04T03:12:17.821590",
     "status": "completed"
    },
    "tags": []
   },
   "source": [
    "* Fill NaN values + optional script for `object` columns."
   ]
  },
  {
   "cell_type": "code",
   "execution_count": 5,
   "id": "junior-means",
   "metadata": {
    "execution": {
     "iopub.execute_input": "2021-05-04T03:12:17.865622Z",
     "iopub.status.busy": "2021-05-04T03:12:17.865042Z",
     "iopub.status.idle": "2021-05-04T03:12:19.187366Z",
     "shell.execute_reply": "2021-05-04T03:12:19.187793Z"
    },
    "papermill": {
     "duration": 1.340957,
     "end_time": "2021-05-04T03:12:19.187965",
     "exception": false,
     "start_time": "2021-05-04T03:12:17.847008",
     "status": "completed"
    },
    "tags": []
   },
   "outputs": [
    {
     "name": "stdout",
     "output_type": "stream",
     "text": [
      "target 4\n",
      "Set 3\n"
     ]
    }
   ],
   "source": [
    "nunique = train.nunique()\n",
    "types = train.dtypes\n",
    "\n",
    "categorical_columns = []\n",
    "categorical_dims =  {}\n",
    "for col in train.columns:\n",
    "    if types[col] == 'object':\n",
    "        print(col, train[col].nunique())\n",
    "        l_enc = LabelEncoder()\n",
    "        train[col] = l_enc.fit_transform(train[col].values)\n",
    "        categorical_columns.append(col)\n",
    "        categorical_dims[col] = len(l_enc.classes_)\n",
    "    else:\n",
    "        train.fillna(train.loc[train_indices, col].mean(), inplace=True)"
   ]
  },
  {
   "cell_type": "markdown",
   "id": "lesbian-programming",
   "metadata": {
    "papermill": {
     "duration": 0.012419,
     "end_time": "2021-05-04T03:12:19.213654",
     "exception": false,
     "start_time": "2021-05-04T03:12:19.201235",
     "status": "completed"
    },
    "tags": []
   },
   "source": [
    "<a id='model'></a>\n",
    "<h1 style=\"background-color:black;color:white;padding:10px; height: 50px;\"> <center>The Model 👷‍♀️</center> </h1>"
   ]
  },
  {
   "cell_type": "code",
   "execution_count": 6,
   "id": "greater-bishop",
   "metadata": {
    "_kg_hide-input": true,
    "execution": {
     "iopub.execute_input": "2021-05-04T03:12:19.245498Z",
     "iopub.status.busy": "2021-05-04T03:12:19.244845Z",
     "iopub.status.idle": "2021-05-04T03:12:19.355368Z",
     "shell.execute_reply": "2021-05-04T03:12:19.354673Z"
    },
    "papermill": {
     "duration": 0.129087,
     "end_time": "2021-05-04T03:12:19.355514",
     "exception": false,
     "start_time": "2021-05-04T03:12:19.226427",
     "status": "completed"
    },
    "tags": []
   },
   "outputs": [],
   "source": [
    "# Columns not to use\n",
    "unused_feat = ['Set']\n",
    "\n",
    "# Features to Use\n",
    "features = [ col for col in train.columns if col not in unused_feat+[target]] \n",
    "\n",
    "X_train = train[features].values[train_indices]\n",
    "y_train = train[target].values[train_indices]\n",
    "\n",
    "X_valid = train[features].values[valid_indices]\n",
    "y_valid = train[target].values[valid_indices]\n",
    "\n",
    "X_test = train[features].values[test_indices]\n",
    "y_test = train[target].values[test_indices]"
   ]
  },
  {
   "cell_type": "code",
   "execution_count": 7,
   "id": "variable-warning",
   "metadata": {
    "execution": {
     "iopub.execute_input": "2021-05-04T03:12:19.386855Z",
     "iopub.status.busy": "2021-05-04T03:12:19.386181Z",
     "iopub.status.idle": "2021-05-04T03:12:19.388022Z",
     "shell.execute_reply": "2021-05-04T03:12:19.388458Z"
    },
    "papermill": {
     "duration": 0.019884,
     "end_time": "2021-05-04T03:12:19.388608",
     "exception": false,
     "start_time": "2021-05-04T03:12:19.368724",
     "status": "completed"
    },
    "tags": []
   },
   "outputs": [],
   "source": [
    "# Basic model parameters\n",
    "max_epochs = 30\n",
    "batch_size = 1024\n",
    "opt = torch.optim.Adam # Optimizer\n",
    "opt_params = dict(lr=1e-3)\n",
    "sch = torch.optim.lr_scheduler.StepLR # LR Scheduler\n",
    "sch_params = {\"step_size\":10, \"gamma\":0.9}\n",
    "mask = 'entmax'\n",
    "workers = 2 # For torch DataLoader\n",
    "sample_type = 1 # For automated sampling with inverse class occurrences \n",
    "virtual_batch = 128 # Size of the mini batches used for \"Ghost Batch Normalization\""
   ]
  },
  {
   "cell_type": "markdown",
   "id": "industrial-occupation",
   "metadata": {
    "papermill": {
     "duration": 0.012775,
     "end_time": "2021-05-04T03:12:19.414554",
     "exception": false,
     "start_time": "2021-05-04T03:12:19.401779",
     "status": "completed"
    },
    "tags": []
   },
   "source": [
    "The paper highlights a semi-supervised pre-training method which is available via the `TabNetPretrainer` class. We'll use this pretrain this model and use it to boost the tabnet model performance as a unsupervised prior."
   ]
  },
  {
   "cell_type": "code",
   "execution_count": 8,
   "id": "amber-compact",
   "metadata": {
    "execution": {
     "iopub.execute_input": "2021-05-04T03:12:19.443619Z",
     "iopub.status.busy": "2021-05-04T03:12:19.443077Z",
     "iopub.status.idle": "2021-05-04T03:12:19.451308Z",
     "shell.execute_reply": "2021-05-04T03:12:19.450859Z"
    },
    "papermill": {
     "duration": 0.023688,
     "end_time": "2021-05-04T03:12:19.451460",
     "exception": false,
     "start_time": "2021-05-04T03:12:19.427772",
     "status": "completed"
    },
    "tags": []
   },
   "outputs": [
    {
     "name": "stdout",
     "output_type": "stream",
     "text": [
      "Device used : cpu\n"
     ]
    }
   ],
   "source": [
    "unsupervised_model = TabNetPretrainer(\n",
    "    optimizer_fn = opt,\n",
    "    optimizer_params = opt_params,\n",
    "    mask_type = mask)"
   ]
  },
  {
   "cell_type": "code",
   "execution_count": 9,
   "id": "stone-county",
   "metadata": {
    "execution": {
     "iopub.execute_input": "2021-05-04T03:12:19.482772Z",
     "iopub.status.busy": "2021-05-04T03:12:19.481988Z",
     "iopub.status.idle": "2021-05-04T03:12:19.485883Z",
     "shell.execute_reply": "2021-05-04T03:12:19.486363Z"
    },
    "papermill": {
     "duration": 0.021704,
     "end_time": "2021-05-04T03:12:19.486536",
     "exception": false,
     "start_time": "2021-05-04T03:12:19.464832",
     "status": "completed"
    },
    "tags": []
   },
   "outputs": [
    {
     "name": "stdout",
     "output_type": "stream",
     "text": [
      "Device used : cpu\n"
     ]
    }
   ],
   "source": [
    "clf = TabNetClassifier(gamma = 1.5,\n",
    "                       lambda_sparse = 1e-4,\n",
    "                       optimizer_fn = opt,\n",
    "                       optimizer_params = opt_params,\n",
    "                       scheduler_fn = sch,\n",
    "                       scheduler_params = sch_params,\n",
    "                       mask_type = mask)"
   ]
  },
  {
   "cell_type": "markdown",
   "id": "streaming-contributor",
   "metadata": {
    "papermill": {
     "duration": 0.013569,
     "end_time": "2021-05-04T03:12:19.513895",
     "exception": false,
     "start_time": "2021-05-04T03:12:19.500326",
     "status": "completed"
    },
    "tags": []
   },
   "source": [
    "<a id = 'train'></a>\n",
    "<h1 style=\"background-color:black;color:white;padding:10px; height: 50px;\"> <center>Training 💪🏻</center> </h1>"
   ]
  },
  {
   "cell_type": "code",
   "execution_count": 10,
   "id": "roman-morris",
   "metadata": {
    "execution": {
     "iopub.execute_input": "2021-05-04T03:12:19.544215Z",
     "iopub.status.busy": "2021-05-04T03:12:19.543646Z",
     "iopub.status.idle": "2021-05-04T03:23:36.094189Z",
     "shell.execute_reply": "2021-05-04T03:23:36.094676Z"
    },
    "papermill": {
     "duration": 676.567119,
     "end_time": "2021-05-04T03:23:36.094864",
     "exception": false,
     "start_time": "2021-05-04T03:12:19.527745",
     "status": "completed"
    },
    "tags": []
   },
   "outputs": [
    {
     "name": "stdout",
     "output_type": "stream",
     "text": [
      "epoch 0  | loss: 1.93957 | val_0_unsup_loss: 1.10304 |  0:00:10s\n",
      "epoch 1  | loss: 1.44858 | val_0_unsup_loss: 1.10773 |  0:00:20s\n",
      "epoch 2  | loss: 1.23433 | val_0_unsup_loss: 1.10444 |  0:00:31s\n",
      "epoch 3  | loss: 1.15029 | val_0_unsup_loss: 1.08998 |  0:00:41s\n",
      "epoch 4  | loss: 1.11041 | val_0_unsup_loss: 1.07696 |  0:00:51s\n",
      "epoch 5  | loss: 1.09305 | val_0_unsup_loss: 1.07184 |  0:01:02s\n",
      "epoch 6  | loss: 1.0836  | val_0_unsup_loss: 1.06789 |  0:01:12s\n",
      "epoch 7  | loss: 1.07735 | val_0_unsup_loss: 1.0662  |  0:01:22s\n",
      "epoch 8  | loss: 1.07398 | val_0_unsup_loss: 1.06433 |  0:01:33s\n",
      "epoch 9  | loss: 1.07021 | val_0_unsup_loss: 1.06379 |  0:01:43s\n",
      "epoch 10 | loss: 1.06828 | val_0_unsup_loss: 1.06208 |  0:01:53s\n",
      "epoch 11 | loss: 1.065   | val_0_unsup_loss: 1.06227 |  0:02:04s\n",
      "epoch 12 | loss: 1.06463 | val_0_unsup_loss: 1.06145 |  0:02:14s\n",
      "epoch 13 | loss: 1.06193 | val_0_unsup_loss: 1.06057 |  0:02:24s\n",
      "epoch 14 | loss: 1.06368 | val_0_unsup_loss: 1.06036 |  0:02:35s\n",
      "epoch 15 | loss: 1.0626  | val_0_unsup_loss: 1.06016 |  0:02:45s\n",
      "epoch 16 | loss: 1.06297 | val_0_unsup_loss: 1.06033 |  0:02:55s\n",
      "epoch 17 | loss: 1.06175 | val_0_unsup_loss: 1.06004 |  0:03:06s\n",
      "epoch 18 | loss: 1.06096 | val_0_unsup_loss: 1.06005 |  0:03:16s\n",
      "epoch 19 | loss: 1.05888 | val_0_unsup_loss: 1.05972 |  0:03:26s\n",
      "epoch 20 | loss: 1.06249 | val_0_unsup_loss: 1.05983 |  0:03:37s\n",
      "epoch 21 | loss: 1.06139 | val_0_unsup_loss: 1.05954 |  0:03:47s\n",
      "epoch 22 | loss: 1.05882 | val_0_unsup_loss: 1.0595  |  0:03:57s\n",
      "epoch 23 | loss: 1.06164 | val_0_unsup_loss: 1.05938 |  0:04:07s\n",
      "epoch 24 | loss: 1.06083 | val_0_unsup_loss: 1.05932 |  0:04:18s\n",
      "epoch 25 | loss: 1.06098 | val_0_unsup_loss: 1.05942 |  0:04:28s\n",
      "epoch 26 | loss: 1.05823 | val_0_unsup_loss: 1.05941 |  0:04:38s\n",
      "epoch 27 | loss: 1.0589  | val_0_unsup_loss: 1.05932 |  0:04:48s\n",
      "epoch 28 | loss: 1.05956 | val_0_unsup_loss: 1.05914 |  0:04:58s\n",
      "epoch 29 | loss: 1.05887 | val_0_unsup_loss: 1.05919 |  0:05:09s\n",
      "epoch 30 | loss: 1.05949 | val_0_unsup_loss: 1.05916 |  0:05:19s\n",
      "epoch 31 | loss: 1.05949 | val_0_unsup_loss: 1.05914 |  0:05:29s\n",
      "epoch 32 | loss: 1.05774 | val_0_unsup_loss: 1.05913 |  0:05:39s\n",
      "epoch 33 | loss: 1.06001 | val_0_unsup_loss: 1.05917 |  0:05:50s\n",
      "epoch 34 | loss: 1.05965 | val_0_unsup_loss: 1.05913 |  0:06:00s\n",
      "epoch 35 | loss: 1.05892 | val_0_unsup_loss: 1.05911 |  0:06:10s\n",
      "epoch 36 | loss: 1.05988 | val_0_unsup_loss: 1.05911 |  0:06:20s\n",
      "epoch 37 | loss: 1.05975 | val_0_unsup_loss: 1.05909 |  0:06:30s\n",
      "epoch 38 | loss: 1.0603  | val_0_unsup_loss: 1.05932 |  0:06:41s\n",
      "epoch 39 | loss: 1.06022 | val_0_unsup_loss: 1.05919 |  0:06:51s\n",
      "epoch 40 | loss: 1.05636 | val_0_unsup_loss: 1.05918 |  0:07:01s\n",
      "epoch 41 | loss: 1.05804 | val_0_unsup_loss: 1.05926 |  0:07:11s\n",
      "epoch 42 | loss: 1.06078 | val_0_unsup_loss: 1.05913 |  0:07:21s\n",
      "epoch 43 | loss: 1.06169 | val_0_unsup_loss: 1.05913 |  0:07:32s\n",
      "epoch 44 | loss: 1.05668 | val_0_unsup_loss: 1.05913 |  0:07:42s\n",
      "epoch 45 | loss: 1.05674 | val_0_unsup_loss: 1.05907 |  0:07:52s\n",
      "epoch 46 | loss: 1.05854 | val_0_unsup_loss: 1.05904 |  0:08:03s\n",
      "epoch 47 | loss: 1.05707 | val_0_unsup_loss: 1.05909 |  0:08:13s\n",
      "epoch 48 | loss: 1.05871 | val_0_unsup_loss: 1.05913 |  0:08:23s\n",
      "epoch 49 | loss: 1.05825 | val_0_unsup_loss: 1.05903 |  0:08:33s\n",
      "epoch 50 | loss: 1.06063 | val_0_unsup_loss: 1.05903 |  0:08:43s\n",
      "epoch 51 | loss: 1.05854 | val_0_unsup_loss: 1.05903 |  0:08:53s\n",
      "epoch 52 | loss: 1.05936 | val_0_unsup_loss: 1.059   |  0:09:04s\n",
      "epoch 53 | loss: 1.0595  | val_0_unsup_loss: 1.05902 |  0:09:14s\n",
      "epoch 54 | loss: 1.0556  | val_0_unsup_loss: 1.059   |  0:09:24s\n",
      "epoch 55 | loss: 1.05839 | val_0_unsup_loss: 1.05899 |  0:09:34s\n",
      "epoch 56 | loss: 1.05826 | val_0_unsup_loss: 1.059   |  0:09:44s\n",
      "epoch 57 | loss: 1.05949 | val_0_unsup_loss: 1.059   |  0:09:54s\n",
      "epoch 58 | loss: 1.05802 | val_0_unsup_loss: 1.059   |  0:10:05s\n",
      "epoch 59 | loss: 1.05838 | val_0_unsup_loss: 1.059   |  0:10:15s\n",
      "epoch 60 | loss: 1.05879 | val_0_unsup_loss: 1.05903 |  0:10:25s\n",
      "epoch 61 | loss: 1.05968 | val_0_unsup_loss: 1.05905 |  0:10:35s\n",
      "epoch 62 | loss: 1.0569  | val_0_unsup_loss: 1.05902 |  0:10:45s\n",
      "epoch 63 | loss: 1.05981 | val_0_unsup_loss: 1.05904 |  0:10:55s\n",
      "epoch 64 | loss: 1.06141 | val_0_unsup_loss: 1.05903 |  0:11:06s\n",
      "epoch 65 | loss: 1.05916 | val_0_unsup_loss: 1.05901 |  0:11:16s\n",
      "\n",
      "Early stopping occurred at epoch 65 with best_epoch = 55 and best_val_0_unsup_loss = 1.05899\n",
      "Best weights from best epoch are automatically used!\n"
     ]
    }
   ],
   "source": [
    "unsupervised_model.fit(\n",
    "    X_train=X_train,\n",
    "    eval_set=[X_valid],\n",
    "    pretraining_ratio=0.8)"
   ]
  },
  {
   "cell_type": "code",
   "execution_count": 11,
   "id": "potential-picking",
   "metadata": {
    "execution": {
     "iopub.execute_input": "2021-05-04T03:23:36.158183Z",
     "iopub.status.busy": "2021-05-04T03:23:36.157623Z",
     "iopub.status.idle": "2021-05-04T03:29:21.165956Z",
     "shell.execute_reply": "2021-05-04T03:29:21.164984Z"
    },
    "papermill": {
     "duration": 345.042014,
     "end_time": "2021-05-04T03:29:21.166116",
     "exception": false,
     "start_time": "2021-05-04T03:23:36.124102",
     "status": "completed"
    },
    "tags": []
   },
   "outputs": [
    {
     "name": "stdout",
     "output_type": "stream",
     "text": [
      "Loading weights from unsupervised pretraining\n",
      "epoch 0  | loss: 1.3866  | train_logloss: 1.38629 | train_balanced_accuracy: 0.249   | val_logloss: 1.38608 | val_balanced_accuracy: 0.25012 |  0:00:11s\n",
      "epoch 1  | loss: 1.38649 | train_logloss: 1.3863  | train_balanced_accuracy: 0.25009 | val_logloss: 1.38631 | val_balanced_accuracy: 0.25039 |  0:00:22s\n",
      "epoch 2  | loss: 1.38644 | train_logloss: 1.38617 | train_balanced_accuracy: 0.24983 | val_logloss: 1.38619 | val_balanced_accuracy: 0.24906 |  0:00:34s\n",
      "epoch 3  | loss: 1.38634 | train_logloss: 1.38582 | train_balanced_accuracy: 0.25033 | val_logloss: 1.38608 | val_balanced_accuracy: 0.24755 |  0:00:45s\n",
      "epoch 4  | loss: 1.38618 | train_logloss: 1.38559 | train_balanced_accuracy: 0.2504  | val_logloss: 1.38584 | val_balanced_accuracy: 0.24826 |  0:00:56s\n",
      "epoch 5  | loss: 1.38615 | train_logloss: 1.38542 | train_balanced_accuracy: 0.25049 | val_logloss: 1.38578 | val_balanced_accuracy: 0.24744 |  0:01:08s\n",
      "epoch 6  | loss: 1.38615 | train_logloss: 1.38536 | train_balanced_accuracy: 0.25091 | val_logloss: 1.38558 | val_balanced_accuracy: 0.24804 |  0:01:19s\n",
      "epoch 7  | loss: 1.386   | train_logloss: 1.3849  | train_balanced_accuracy: 0.25118 | val_logloss: 1.38507 | val_balanced_accuracy: 0.24707 |  0:01:31s\n",
      "epoch 8  | loss: 1.38567 | train_logloss: 1.38451 | train_balanced_accuracy: 0.2513  | val_logloss: 1.38457 | val_balanced_accuracy: 0.24996 |  0:01:42s\n",
      "epoch 9  | loss: 1.38553 | train_logloss: 1.38448 | train_balanced_accuracy: 0.25316 | val_logloss: 1.38458 | val_balanced_accuracy: 0.25038 |  0:01:54s\n",
      "epoch 10 | loss: 1.38538 | train_logloss: 1.38386 | train_balanced_accuracy: 0.25292 | val_logloss: 1.38393 | val_balanced_accuracy: 0.25203 |  0:02:05s\n",
      "epoch 11 | loss: 1.38551 | train_logloss: 1.38356 | train_balanced_accuracy: 0.25307 | val_logloss: 1.38381 | val_balanced_accuracy: 0.25057 |  0:02:16s\n",
      "epoch 12 | loss: 1.38528 | train_logloss: 1.38326 | train_balanced_accuracy: 0.25462 | val_logloss: 1.38351 | val_balanced_accuracy: 0.25113 |  0:02:28s\n",
      "epoch 13 | loss: 1.38524 | train_logloss: 1.38314 | train_balanced_accuracy: 0.25508 | val_logloss: 1.38327 | val_balanced_accuracy: 0.25045 |  0:02:39s\n",
      "epoch 14 | loss: 1.38497 | train_logloss: 1.38271 | train_balanced_accuracy: 0.25497 | val_logloss: 1.38285 | val_balanced_accuracy: 0.25014 |  0:02:51s\n",
      "epoch 15 | loss: 1.3849  | train_logloss: 1.38222 | train_balanced_accuracy: 0.2553  | val_logloss: 1.38221 | val_balanced_accuracy: 0.25259 |  0:03:02s\n",
      "epoch 16 | loss: 1.38499 | train_logloss: 1.38197 | train_balanced_accuracy: 0.25518 | val_logloss: 1.3821  | val_balanced_accuracy: 0.25224 |  0:03:14s\n",
      "epoch 17 | loss: 1.38463 | train_logloss: 1.38212 | train_balanced_accuracy: 0.25529 | val_logloss: 1.38249 | val_balanced_accuracy: 0.24893 |  0:03:25s\n",
      "epoch 18 | loss: 1.38418 | train_logloss: 1.38106 | train_balanced_accuracy: 0.25607 | val_logloss: 1.38177 | val_balanced_accuracy: 0.24691 |  0:03:36s\n",
      "epoch 19 | loss: 1.3847  | train_logloss: 1.38165 | train_balanced_accuracy: 0.25508 | val_logloss: 1.38249 | val_balanced_accuracy: 0.24828 |  0:03:48s\n",
      "epoch 20 | loss: 1.38412 | train_logloss: 1.38094 | train_balanced_accuracy: 0.25578 | val_logloss: 1.38159 | val_balanced_accuracy: 0.25    |  0:03:59s\n",
      "epoch 21 | loss: 1.38432 | train_logloss: 1.38004 | train_balanced_accuracy: 0.25578 | val_logloss: 1.38091 | val_balanced_accuracy: 0.24983 |  0:04:10s\n",
      "epoch 22 | loss: 1.38394 | train_logloss: 1.38022 | train_balanced_accuracy: 0.25546 | val_logloss: 1.38151 | val_balanced_accuracy: 0.24835 |  0:04:22s\n",
      "epoch 23 | loss: 1.38296 | train_logloss: 1.38018 | train_balanced_accuracy: 0.25589 | val_logloss: 1.3815  | val_balanced_accuracy: 0.2503  |  0:04:33s\n",
      "epoch 24 | loss: 1.38359 | train_logloss: 1.38015 | train_balanced_accuracy: 0.2566  | val_logloss: 1.38152 | val_balanced_accuracy: 0.24939 |  0:04:45s\n",
      "epoch 25 | loss: 1.38336 | train_logloss: 1.38033 | train_balanced_accuracy: 0.25773 | val_logloss: 1.38199 | val_balanced_accuracy: 0.24878 |  0:04:56s\n",
      "epoch 26 | loss: 1.38289 | train_logloss: 1.38017 | train_balanced_accuracy: 0.2578  | val_logloss: 1.3819  | val_balanced_accuracy: 0.25076 |  0:05:08s\n",
      "epoch 27 | loss: 1.38283 | train_logloss: 1.37909 | train_balanced_accuracy: 0.25696 | val_logloss: 1.38146 | val_balanced_accuracy: 0.248   |  0:05:19s\n",
      "epoch 28 | loss: 1.38275 | train_logloss: 1.37833 | train_balanced_accuracy: 0.25649 | val_logloss: 1.38073 | val_balanced_accuracy: 0.25278 |  0:05:31s\n",
      "epoch 29 | loss: 1.38234 | train_logloss: 1.37855 | train_balanced_accuracy: 0.25763 | val_logloss: 1.38097 | val_balanced_accuracy: 0.2518  |  0:05:42s\n",
      "Stop training because you reached max_epochs = 30 with best_epoch = 28 and best_val_balanced_accuracy = 0.25278\n",
      "Best weights from best epoch are automatically used!\n"
     ]
    }
   ],
   "source": [
    "clf.fit(X_train=X_train, \n",
    "    y_train=y_train,\n",
    "    eval_set=[(X_train, y_train), (X_valid, y_valid)],\n",
    "    eval_name=['train', 'val'],\n",
    "    eval_metric=[\"logloss\", 'balanced_accuracy'],\n",
    "    max_epochs=max_epochs , patience=15,\n",
    "    batch_size=batch_size,\n",
    "    virtual_batch_size=virtual_batch,\n",
    "    num_workers=workers,\n",
    "    weights=sample_type,\n",
    "    drop_last=False,\n",
    "    from_unsupervised=unsupervised_model)"
   ]
  },
  {
   "cell_type": "code",
   "execution_count": 12,
   "id": "fewer-disney",
   "metadata": {
    "execution": {
     "iopub.execute_input": "2021-05-04T03:29:21.257319Z",
     "iopub.status.busy": "2021-05-04T03:29:21.256665Z",
     "iopub.status.idle": "2021-05-04T03:29:21.386265Z",
     "shell.execute_reply": "2021-05-04T03:29:21.385775Z"
    },
    "papermill": {
     "duration": 0.184228,
     "end_time": "2021-05-04T03:29:21.386408",
     "exception": false,
     "start_time": "2021-05-04T03:29:21.202180",
     "status": "completed"
    },
    "tags": []
   },
   "outputs": [
    {
     "data": {
      "text/plain": [
       "[<matplotlib.lines.Line2D at 0x7faa583e2850>]"
      ]
     },
     "execution_count": 12,
     "metadata": {},
     "output_type": "execute_result"
    },
    {
     "data": {
      "image/png": "[encoded data removed]",
      "text/plain": [
       "<Figure size 432x288 with 1 Axes>"
      ]
     },
     "metadata": {
      "needs_background": "light"
     },
     "output_type": "display_data"
    }
   ],
   "source": [
    "# plot losses\n",
    "plt.plot(clf.history['loss'])"
   ]
  },
  {
   "cell_type": "code",
   "execution_count": 13,
   "id": "adult-ceremony",
   "metadata": {
    "execution": {
     "iopub.execute_input": "2021-05-04T03:29:21.484897Z",
     "iopub.status.busy": "2021-05-04T03:29:21.484310Z",
     "iopub.status.idle": "2021-05-04T03:29:21.595785Z",
     "shell.execute_reply": "2021-05-04T03:29:21.595275Z"
    },
    "papermill": {
     "duration": 0.173533,
     "end_time": "2021-05-04T03:29:21.595920",
     "exception": false,
     "start_time": "2021-05-04T03:29:21.422387",
     "status": "completed"
    },
    "tags": []
   },
   "outputs": [
    {
     "data": {
      "text/plain": [
       "[<matplotlib.lines.Line2D at 0x7faa585b51d0>]"
      ]
     },
     "execution_count": 13,
     "metadata": {},
     "output_type": "execute_result"
    },
    {
     "data": {
      "image/png": "[encoded data removed]",
      "text/plain": [
       "<Figure size 432x288 with 1 Axes>"
      ]
     },
     "metadata": {
      "needs_background": "light"
     },
     "output_type": "display_data"
    }
   ],
   "source": [
    "# plot auc\n",
    "plt.plot(clf.history['train_logloss'])\n",
    "plt.plot(clf.history['val_logloss'])"
   ]
  },
  {
   "cell_type": "markdown",
   "id": "handmade-syntax",
   "metadata": {
    "papermill": {
     "duration": 0.037456,
     "end_time": "2021-05-04T03:29:21.670760",
     "exception": false,
     "start_time": "2021-05-04T03:29:21.633304",
     "status": "completed"
    },
    "tags": []
   },
   "source": [
    "<h1 style=\"background-color:black;color:white;padding:10px; height: 50px;\"> <center>Submission</center> </h1>"
   ]
  },
  {
   "cell_type": "code",
   "execution_count": 14,
   "id": "durable-coating",
   "metadata": {
    "execution": {
     "iopub.execute_input": "2021-05-04T03:29:21.750636Z",
     "iopub.status.busy": "2021-05-04T03:29:21.749916Z",
     "iopub.status.idle": "2021-05-04T03:29:23.758300Z",
     "shell.execute_reply": "2021-05-04T03:29:23.757776Z"
    },
    "papermill": {
     "duration": 2.05054,
     "end_time": "2021-05-04T03:29:23.758480",
     "exception": false,
     "start_time": "2021-05-04T03:29:21.707940",
     "status": "completed"
    },
    "tags": []
   },
   "outputs": [],
   "source": [
    "test = pd.read_csv('../input/tabular-playground-series-may-2021/test.csv')\n",
    "test_indices = test.index\n",
    "test_ds = test[features].values[test_indices]\n",
    "\n",
    "sample_submission = pd.read_csv('../input/tabular-playground-series-may-2021/sample_submission.csv')\n",
    "sample_submission[['Class_1','Class_2', 'Class_3', 'Class_4']] = clf.predict_proba(test_ds)\n",
    "sample_submission.to_csv('tabnet_submission.csv',index = False)"
   ]
  },
  {
   "cell_type": "code",
   "execution_count": 15,
   "id": "boring-compromise",
   "metadata": {
    "execution": {
     "iopub.execute_input": "2021-05-04T03:29:23.839442Z",
     "iopub.status.busy": "2021-05-04T03:29:23.838884Z",
     "iopub.status.idle": "2021-05-04T03:29:23.853077Z",
     "shell.execute_reply": "2021-05-04T03:29:23.852637Z"
    },
    "papermill": {
     "duration": 0.056674,
     "end_time": "2021-05-04T03:29:23.853205",
     "exception": false,
     "start_time": "2021-05-04T03:29:23.796531",
     "status": "completed"
    },
    "tags": []
   },
   "outputs": [
    {
     "data": {
      "text/html": [
       "<div>\n",
       "<style scoped>\n",
       "    .dataframe tbody tr th:only-of-type {\n",
       "        vertical-align: middle;\n",
       "    }\n",
       "\n",
       "    .dataframe tbody tr th {\n",
       "        vertical-align: top;\n",
       "    }\n",
       "\n",
       "    .dataframe thead th {\n",
       "        text-align: right;\n",
       "    }\n",
       "</style>\n",
       "<table border=\"1\" class=\"dataframe\">\n",
       "  <thead>\n",
       "    <tr style=\"text-align: right;\">\n",
       "      <th></th>\n",
       "      <th>id</th>\n",
       "      <th>Class_1</th>\n",
       "      <th>Class_2</th>\n",
       "      <th>Class_3</th>\n",
       "      <th>Class_4</th>\n",
       "    </tr>\n",
       "  </thead>\n",
       "  <tbody>\n",
       "    <tr>\n",
       "      <th>0</th>\n",
       "      <td>100000</td>\n",
       "      <td>0.143695</td>\n",
       "      <td>0.560547</td>\n",
       "      <td>0.295729</td>\n",
       "      <td>0.000029</td>\n",
       "    </tr>\n",
       "    <tr>\n",
       "      <th>1</th>\n",
       "      <td>100001</td>\n",
       "      <td>0.297051</td>\n",
       "      <td>0.257381</td>\n",
       "      <td>0.266691</td>\n",
       "      <td>0.178877</td>\n",
       "    </tr>\n",
       "    <tr>\n",
       "      <th>2</th>\n",
       "      <td>100002</td>\n",
       "      <td>0.240840</td>\n",
       "      <td>0.255797</td>\n",
       "      <td>0.293170</td>\n",
       "      <td>0.210193</td>\n",
       "    </tr>\n",
       "    <tr>\n",
       "      <th>3</th>\n",
       "      <td>100003</td>\n",
       "      <td>0.250000</td>\n",
       "      <td>0.250000</td>\n",
       "      <td>0.250000</td>\n",
       "      <td>0.250000</td>\n",
       "    </tr>\n",
       "    <tr>\n",
       "      <th>4</th>\n",
       "      <td>100004</td>\n",
       "      <td>0.260787</td>\n",
       "      <td>0.275454</td>\n",
       "      <td>0.276954</td>\n",
       "      <td>0.186805</td>\n",
       "    </tr>\n",
       "  </tbody>\n",
       "</table>\n",
       "</div>"
      ],
      "text/plain": [
       "       id   Class_1   Class_2   Class_3   Class_4\n",
       "0  100000  0.143695  0.560547  0.295729  0.000029\n",
       "1  100001  0.297051  0.257381  0.266691  0.178877\n",
       "2  100002  0.240840  0.255797  0.293170  0.210193\n",
       "3  100003  0.250000  0.250000  0.250000  0.250000\n",
       "4  100004  0.260787  0.275454  0.276954  0.186805"
      ]
     },
     "execution_count": 15,
     "metadata": {},
     "output_type": "execute_result"
    }
   ],
   "source": [
    "sample_submission.head()"
   ]
  }
 ],
 "metadata": {
  "kernelspec": {
   "display_name": "Python 3",
   "language": "python",
   "name": "python3"
  },
  "language_info": {
   "codemirror_mode": {
    "name": "ipython",
    "version": 3
   },
   "file_extension": ".py",
   "mimetype": "text/x-python",
   "name": "python",
   "nbconvert_exporter": "python",
   "pygments_lexer": "ipython3",
   "version": "3.7.10"
  },
  "papermill": {
   "default_parameters": {},
   "duration": 1049.104897,
   "end_time": "2021-05-04T03:29:25.544864",
   "environment_variables": {},
   "exception": null,
   "input_path": "__notebook__.ipynb",
   "output_path": "__notebook__.ipynb",
   "parameters": {},
   "start_time": "2021-05-04T03:11:56.439967",
   "version": "2.3.3"
  }
 },
 "nbformat": 4,
 "nbformat_minor": 5
}
