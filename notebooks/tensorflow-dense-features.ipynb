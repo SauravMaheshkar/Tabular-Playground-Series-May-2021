{
 "cells": [
  {
   "cell_type": "markdown",
   "id": "periodic-pulse",
   "metadata": {
    "papermill": {
     "duration": 0.019767,
     "end_time": "2021-05-02T10:48:50.012012",
     "exception": false,
     "start_time": "2021-05-02T10:48:49.992245",
     "status": "completed"
    },
    "tags": []
   },
   "source": [
    "![](https://github.com/SauravMaheshkar/Tabular-Playground-Series-May-2021/blob/main/assets/Banner.png?raw=true)"
   ]
  },
  {
   "cell_type": "markdown",
   "id": "elementary-landscape",
   "metadata": {
    "_cell_guid": "b1076dfc-b9ad-4769-8c92-a6c4dae69d19",
    "_uuid": "8f2839f25d086af736a60e9eeb907d3b93b6e0e5",
    "papermill": {
     "duration": 0.018031,
     "end_time": "2021-05-02T10:48:50.048818",
     "exception": false,
     "start_time": "2021-05-02T10:48:50.030787",
     "status": "completed"
    },
    "tags": []
   },
   "source": [
    "# Table of Content\n",
    "\n",
    "1. [Packages 📦 and Basic Setup](#basic)\n",
    "2. [Pre-Processing 👎🏻 -> 👍](#preprocess)\n",
    "3. [The Model 👷‍♀️](#model)\n",
    "4. [Training 💪🏻](#train)"
   ]
  },
  {
   "cell_type": "markdown",
   "id": "eight-baseline",
   "metadata": {
    "papermill": {
     "duration": 0.021709,
     "end_time": "2021-05-02T10:48:50.089039",
     "exception": false,
     "start_time": "2021-05-02T10:48:50.067330",
     "status": "completed"
    },
    "tags": []
   },
   "source": [
    "## Disclaimer\n",
    "\n",
    "This kernel builds on top of [@subinium](https://www.kaggle.com/subinium)'s kernel [TPS-May:Deeplearning Pipeline for Beginner](https://www.kaggle.com/subinium/tps-may-deeplearning-pipeline-for-beginner)"
   ]
  },
  {
   "cell_type": "markdown",
   "id": "mighty-correction",
   "metadata": {
    "papermill": {
     "duration": 0.019239,
     "end_time": "2021-05-02T10:48:50.129027",
     "exception": false,
     "start_time": "2021-05-02T10:48:50.109788",
     "status": "completed"
    },
    "tags": []
   },
   "source": [
    "<a id = \"basic\"> </a>\n",
    "\n",
    "# Packages 📦 and Basic Setup"
   ]
  },
  {
   "cell_type": "code",
   "execution_count": 1,
   "id": "funny-attribute",
   "metadata": {
    "_kg_hide-input": false,
    "_kg_hide-output": true,
    "execution": {
     "iopub.execute_input": "2021-05-02T10:48:50.196022Z",
     "iopub.status.busy": "2021-05-02T10:48:50.190496Z",
     "iopub.status.idle": "2021-05-02T10:49:10.558138Z",
     "shell.execute_reply": "2021-05-02T10:49:10.557340Z"
    },
    "papermill": {
     "duration": 20.401185,
     "end_time": "2021-05-02T10:49:10.558363",
     "exception": false,
     "start_time": "2021-05-02T10:48:50.157178",
     "status": "completed"
    },
    "tags": []
   },
   "outputs": [],
   "source": [
    "%%capture\n",
    "!pip install wandb\n",
    "\n",
    "import numpy as np\n",
    "import pandas as pd\n",
    "import seaborn as sns\n",
    "import tensorflow as tf\n",
    "import matplotlib.pyplot as plt\n",
    "from sklearn.model_selection import train_test_split\n",
    "\n",
    "# Weights and Biases\n",
    "import wandb\n",
    "from wandb.keras import WandbCallback\n",
    "from kaggle_secrets import UserSecretsClient\n",
    "user_secrets = UserSecretsClient()\n",
    "api_key = user_secrets.get_secret(\"WANDB_API_KEY\")\n",
    "wandb.login(key=api_key);\n",
    "wandb.init(project='TPS May 2021', entity='sauravmaheshkar')"
   ]
  },
  {
   "cell_type": "markdown",
   "id": "surprising-raleigh",
   "metadata": {
    "papermill": {
     "duration": 0.018418,
     "end_time": "2021-05-02T10:49:10.596180",
     "exception": false,
     "start_time": "2021-05-02T10:49:10.577762",
     "status": "completed"
    },
    "tags": []
   },
   "source": [
    "As we can see, the dataset consists of 50 feature columnns with 4 classes. "
   ]
  },
  {
   "cell_type": "code",
   "execution_count": 2,
   "id": "warming-summer",
   "metadata": {
    "_kg_hide-input": true,
    "execution": {
     "iopub.execute_input": "2021-05-02T10:49:10.649978Z",
     "iopub.status.busy": "2021-05-02T10:49:10.649308Z",
     "iopub.status.idle": "2021-05-02T10:49:11.416390Z",
     "shell.execute_reply": "2021-05-02T10:49:11.416900Z"
    },
    "papermill": {
     "duration": 0.800543,
     "end_time": "2021-05-02T10:49:11.417070",
     "exception": false,
     "start_time": "2021-05-02T10:49:10.616527",
     "status": "completed"
    },
    "tags": []
   },
   "outputs": [
    {
     "data": {
      "text/html": [
       "<div>\n",
       "<style scoped>\n",
       "    .dataframe tbody tr th:only-of-type {\n",
       "        vertical-align: middle;\n",
       "    }\n",
       "\n",
       "    .dataframe tbody tr th {\n",
       "        vertical-align: top;\n",
       "    }\n",
       "\n",
       "    .dataframe thead th {\n",
       "        text-align: right;\n",
       "    }\n",
       "</style>\n",
       "<table border=\"1\" class=\"dataframe\">\n",
       "  <thead>\n",
       "    <tr style=\"text-align: right;\">\n",
       "      <th></th>\n",
       "      <th>feature_0</th>\n",
       "      <th>feature_1</th>\n",
       "      <th>feature_2</th>\n",
       "      <th>feature_3</th>\n",
       "      <th>feature_4</th>\n",
       "      <th>feature_5</th>\n",
       "      <th>feature_6</th>\n",
       "      <th>feature_7</th>\n",
       "      <th>feature_8</th>\n",
       "      <th>feature_9</th>\n",
       "      <th>...</th>\n",
       "      <th>feature_41</th>\n",
       "      <th>feature_42</th>\n",
       "      <th>feature_43</th>\n",
       "      <th>feature_44</th>\n",
       "      <th>feature_45</th>\n",
       "      <th>feature_46</th>\n",
       "      <th>feature_47</th>\n",
       "      <th>feature_48</th>\n",
       "      <th>feature_49</th>\n",
       "      <th>target</th>\n",
       "    </tr>\n",
       "  </thead>\n",
       "  <tbody>\n",
       "    <tr>\n",
       "      <th>0</th>\n",
       "      <td>0</td>\n",
       "      <td>0</td>\n",
       "      <td>1</td>\n",
       "      <td>0</td>\n",
       "      <td>1</td>\n",
       "      <td>0</td>\n",
       "      <td>0</td>\n",
       "      <td>0</td>\n",
       "      <td>0</td>\n",
       "      <td>0</td>\n",
       "      <td>...</td>\n",
       "      <td>0</td>\n",
       "      <td>0</td>\n",
       "      <td>21</td>\n",
       "      <td>0</td>\n",
       "      <td>0</td>\n",
       "      <td>0</td>\n",
       "      <td>0</td>\n",
       "      <td>0</td>\n",
       "      <td>0</td>\n",
       "      <td>Class_2</td>\n",
       "    </tr>\n",
       "    <tr>\n",
       "      <th>1</th>\n",
       "      <td>0</td>\n",
       "      <td>0</td>\n",
       "      <td>0</td>\n",
       "      <td>0</td>\n",
       "      <td>2</td>\n",
       "      <td>1</td>\n",
       "      <td>0</td>\n",
       "      <td>0</td>\n",
       "      <td>0</td>\n",
       "      <td>0</td>\n",
       "      <td>...</td>\n",
       "      <td>0</td>\n",
       "      <td>0</td>\n",
       "      <td>0</td>\n",
       "      <td>0</td>\n",
       "      <td>0</td>\n",
       "      <td>0</td>\n",
       "      <td>0</td>\n",
       "      <td>0</td>\n",
       "      <td>0</td>\n",
       "      <td>Class_1</td>\n",
       "    </tr>\n",
       "    <tr>\n",
       "      <th>2</th>\n",
       "      <td>0</td>\n",
       "      <td>0</td>\n",
       "      <td>0</td>\n",
       "      <td>0</td>\n",
       "      <td>0</td>\n",
       "      <td>0</td>\n",
       "      <td>0</td>\n",
       "      <td>0</td>\n",
       "      <td>0</td>\n",
       "      <td>2</td>\n",
       "      <td>...</td>\n",
       "      <td>0</td>\n",
       "      <td>1</td>\n",
       "      <td>0</td>\n",
       "      <td>0</td>\n",
       "      <td>0</td>\n",
       "      <td>0</td>\n",
       "      <td>13</td>\n",
       "      <td>2</td>\n",
       "      <td>0</td>\n",
       "      <td>Class_1</td>\n",
       "    </tr>\n",
       "    <tr>\n",
       "      <th>3</th>\n",
       "      <td>0</td>\n",
       "      <td>0</td>\n",
       "      <td>0</td>\n",
       "      <td>0</td>\n",
       "      <td>0</td>\n",
       "      <td>0</td>\n",
       "      <td>0</td>\n",
       "      <td>3</td>\n",
       "      <td>0</td>\n",
       "      <td>0</td>\n",
       "      <td>...</td>\n",
       "      <td>0</td>\n",
       "      <td>0</td>\n",
       "      <td>0</td>\n",
       "      <td>0</td>\n",
       "      <td>0</td>\n",
       "      <td>0</td>\n",
       "      <td>0</td>\n",
       "      <td>1</td>\n",
       "      <td>0</td>\n",
       "      <td>Class_4</td>\n",
       "    </tr>\n",
       "    <tr>\n",
       "      <th>4</th>\n",
       "      <td>0</td>\n",
       "      <td>0</td>\n",
       "      <td>0</td>\n",
       "      <td>0</td>\n",
       "      <td>0</td>\n",
       "      <td>0</td>\n",
       "      <td>0</td>\n",
       "      <td>0</td>\n",
       "      <td>0</td>\n",
       "      <td>0</td>\n",
       "      <td>...</td>\n",
       "      <td>0</td>\n",
       "      <td>0</td>\n",
       "      <td>0</td>\n",
       "      <td>0</td>\n",
       "      <td>0</td>\n",
       "      <td>0</td>\n",
       "      <td>0</td>\n",
       "      <td>1</td>\n",
       "      <td>0</td>\n",
       "      <td>Class_2</td>\n",
       "    </tr>\n",
       "  </tbody>\n",
       "</table>\n",
       "<p>5 rows × 51 columns</p>\n",
       "</div>"
      ],
      "text/plain": [
       "   feature_0  feature_1  feature_2  feature_3  feature_4  feature_5  \\\n",
       "0          0          0          1          0          1          0   \n",
       "1          0          0          0          0          2          1   \n",
       "2          0          0          0          0          0          0   \n",
       "3          0          0          0          0          0          0   \n",
       "4          0          0          0          0          0          0   \n",
       "\n",
       "   feature_6  feature_7  feature_8  feature_9  ...  feature_41  feature_42  \\\n",
       "0          0          0          0          0  ...           0           0   \n",
       "1          0          0          0          0  ...           0           0   \n",
       "2          0          0          0          2  ...           0           1   \n",
       "3          0          3          0          0  ...           0           0   \n",
       "4          0          0          0          0  ...           0           0   \n",
       "\n",
       "   feature_43  feature_44  feature_45  feature_46  feature_47  feature_48  \\\n",
       "0          21           0           0           0           0           0   \n",
       "1           0           0           0           0           0           0   \n",
       "2           0           0           0           0          13           2   \n",
       "3           0           0           0           0           0           1   \n",
       "4           0           0           0           0           0           1   \n",
       "\n",
       "   feature_49   target  \n",
       "0           0  Class_2  \n",
       "1           0  Class_1  \n",
       "2           0  Class_1  \n",
       "3           0  Class_4  \n",
       "4           0  Class_2  \n",
       "\n",
       "[5 rows x 51 columns]"
      ]
     },
     "execution_count": 2,
     "metadata": {},
     "output_type": "execute_result"
    }
   ],
   "source": [
    "# Basic Paths\n",
    "train = pd.read_csv('../input/tabular-playground-series-may-2021/train.csv')\n",
    "test = pd.read_csv('../input/tabular-playground-series-may-2021/test.csv')\n",
    "sample_submission = pd.read_csv('../input/tabular-playground-series-may-2021/sample_submission.csv')\n",
    "\n",
    "train = train.drop('id', axis=1)\n",
    "test = test.drop('id', axis=1)\n",
    "train.head()"
   ]
  },
  {
   "cell_type": "markdown",
   "id": "hybrid-lambda",
   "metadata": {
    "papermill": {
     "duration": 0.020752,
     "end_time": "2021-05-02T10:49:11.457776",
     "exception": false,
     "start_time": "2021-05-02T10:49:11.437024",
     "status": "completed"
    },
    "tags": []
   },
   "source": [
    "<a id = 'preprocess'> </a>\n",
    "# Pre-Processing 👎🏻 -> 👍\n",
    "\n",
    "In this kernel I'll highlight the relatively new `tensorflow.feature_column` submodule which contains a ton of useful methods to deal with structured data. For more details kindly visit the [documentation](https://www.tensorflow.org/api_docs/python/tf/feature_column). Tensorflow offers a ton of feature columns for us to experiment with, viz :\n",
    "\n",
    "* Numeric columns\n",
    "* Bucketized columns\n",
    "* Categorical columns\n",
    "* Embedding columns\n",
    "* Hashed feature columns\n",
    "* Crossed feature columns\n",
    "\n",
    "Have a look at [this tutorial](https://www.tensorflow.org/tutorials/structured_data/feature_columns) for more details."
   ]
  },
  {
   "cell_type": "markdown",
   "id": "improving-interest",
   "metadata": {
    "papermill": {
     "duration": 0.019098,
     "end_time": "2021-05-02T10:49:11.496515",
     "exception": false,
     "start_time": "2021-05-02T10:49:11.477417",
     "status": "completed"
    },
    "tags": []
   },
   "source": [
    "Upon a closer look, we realize that most features are left skewed in this dataset. Thus, Normalization seems ideal."
   ]
  },
  {
   "cell_type": "code",
   "execution_count": 3,
   "id": "atmospheric-processor",
   "metadata": {
    "execution": {
     "iopub.execute_input": "2021-05-02T10:49:11.538756Z",
     "iopub.status.busy": "2021-05-02T10:49:11.538078Z",
     "iopub.status.idle": "2021-05-02T10:49:17.867886Z",
     "shell.execute_reply": "2021-05-02T10:49:17.867294Z"
    },
    "papermill": {
     "duration": 6.352088,
     "end_time": "2021-05-02T10:49:17.868035",
     "exception": false,
     "start_time": "2021-05-02T10:49:11.515947",
     "status": "completed"
    },
    "tags": []
   },
   "outputs": [],
   "source": [
    "for i in range(50):\n",
    "    mean, std = train[f'feature_{i}'].mean(), train[f'feature_{i}'].std()\n",
    "    train[f'feature_{i}'] = train[f'feature_{i}'].apply(lambda x : (x-mean)/std)"
   ]
  },
  {
   "cell_type": "markdown",
   "id": "sixth-swedish",
   "metadata": {
    "papermill": {
     "duration": 0.019475,
     "end_time": "2021-05-02T10:49:17.907089",
     "exception": false,
     "start_time": "2021-05-02T10:49:17.887614",
     "status": "completed"
    },
    "tags": []
   },
   "source": [
    "We also convert the `target` columns into binary class matrices using the `tf.keras.utils.to_categorical()` function."
   ]
  },
  {
   "cell_type": "code",
   "execution_count": 4,
   "id": "combined-century",
   "metadata": {
    "execution": {
     "iopub.execute_input": "2021-05-02T10:49:17.961326Z",
     "iopub.status.busy": "2021-05-02T10:49:17.960621Z",
     "iopub.status.idle": "2021-05-02T10:49:17.982203Z",
     "shell.execute_reply": "2021-05-02T10:49:17.983014Z"
    },
    "papermill": {
     "duration": 0.056249,
     "end_time": "2021-05-02T10:49:17.983350",
     "exception": false,
     "start_time": "2021-05-02T10:49:17.927101",
     "status": "completed"
    },
    "tags": []
   },
   "outputs": [],
   "source": [
    "# transform target column into 0,1,2,3 values\n",
    "label_dict = {val:idx for idx, val in enumerate(sorted(train['target'].unique()))}\n",
    "train['target'] = train['target'].map(label_dict)\n",
    "\n",
    "train['target'] = tf.keras.utils.to_categorical(train['target'])"
   ]
  },
  {
   "cell_type": "markdown",
   "id": "peripheral-hometown",
   "metadata": {
    "papermill": {
     "duration": 0.019359,
     "end_time": "2021-05-02T10:49:18.023877",
     "exception": false,
     "start_time": "2021-05-02T10:49:18.004518",
     "status": "completed"
    },
    "tags": []
   },
   "source": [
    "Lastly, we split out dataset into train, validation and test splits. Most deep learning models will overfit, so having a nice split ratio is key 🔑"
   ]
  },
  {
   "cell_type": "code",
   "execution_count": 5,
   "id": "mechanical-press",
   "metadata": {
    "execution": {
     "iopub.execute_input": "2021-05-02T10:49:18.069322Z",
     "iopub.status.busy": "2021-05-02T10:49:18.068360Z",
     "iopub.status.idle": "2021-05-02T10:49:18.187993Z",
     "shell.execute_reply": "2021-05-02T10:49:18.188512Z"
    },
    "papermill": {
     "duration": 0.143691,
     "end_time": "2021-05-02T10:49:18.188679",
     "exception": false,
     "start_time": "2021-05-02T10:49:18.044988",
     "status": "completed"
    },
    "tags": []
   },
   "outputs": [
    {
     "name": "stdout",
     "output_type": "stream",
     "text": [
      "48000 train examples\n",
      "32000 validation examples\n",
      "20000 test examples\n"
     ]
    }
   ],
   "source": [
    "train, test = train_test_split(train, test_size=0.2)\n",
    "train, val = train_test_split(train, test_size=0.4)\n",
    "\n",
    "print(len(train), 'train examples')\n",
    "print(len(val), 'validation examples')\n",
    "print(len(test), 'test examples')"
   ]
  },
  {
   "cell_type": "markdown",
   "id": "celtic-booking",
   "metadata": {
    "papermill": {
     "duration": 0.01987,
     "end_time": "2021-05-02T10:49:18.228818",
     "exception": false,
     "start_time": "2021-05-02T10:49:18.208948",
     "status": "completed"
    },
    "tags": []
   },
   "source": [
    "Rather than using dataframes we'll create a `tf.data.Dataset` from our original dataframe. This also allows us to efficiently shuffle, prefetch and create batches."
   ]
  },
  {
   "cell_type": "code",
   "execution_count": 6,
   "id": "directed-cocktail",
   "metadata": {
    "execution": {
     "iopub.execute_input": "2021-05-02T10:49:18.279701Z",
     "iopub.status.busy": "2021-05-02T10:49:18.278803Z",
     "iopub.status.idle": "2021-05-02T10:49:18.282523Z",
     "shell.execute_reply": "2021-05-02T10:49:18.281973Z"
    },
    "papermill": {
     "duration": 0.033143,
     "end_time": "2021-05-02T10:49:18.282675",
     "exception": false,
     "start_time": "2021-05-02T10:49:18.249532",
     "status": "completed"
    },
    "tags": []
   },
   "outputs": [],
   "source": [
    "# A utility method to create a tf.data dataset from a Pandas Dataframe\n",
    "def df_to_dataset(dataframe, shuffle=True, batch_size=32):\n",
    "    dataframe = dataframe.copy()\n",
    "    labels = dataframe.pop('target')\n",
    "    ds = tf.data.Dataset.from_tensor_slices((dict(dataframe), labels))\n",
    "    if shuffle:\n",
    "        ds = ds.shuffle(buffer_size=len(dataframe))\n",
    "    ds = ds.batch(batch_size)\n",
    "    ds = ds.prefetch(batch_size)\n",
    "    return ds"
   ]
  },
  {
   "cell_type": "markdown",
   "id": "animated-excess",
   "metadata": {
    "papermill": {
     "duration": 0.019893,
     "end_time": "2021-05-02T10:49:18.323318",
     "exception": false,
     "start_time": "2021-05-02T10:49:18.303425",
     "status": "completed"
    },
    "tags": []
   },
   "source": [
    "A numeric column is the simplest type of feature column. It is used to represent real valued features. When using this column, our model will receive the column value from the dataframe **unchanged**. The output of a feature column will become the input to the model."
   ]
  },
  {
   "cell_type": "code",
   "execution_count": 7,
   "id": "indoor-correspondence",
   "metadata": {
    "execution": {
     "iopub.execute_input": "2021-05-02T10:49:18.371361Z",
     "iopub.status.busy": "2021-05-02T10:49:18.370642Z",
     "iopub.status.idle": "2021-05-02T10:49:18.374431Z",
     "shell.execute_reply": "2021-05-02T10:49:18.374955Z"
    },
    "papermill": {
     "duration": 0.031539,
     "end_time": "2021-05-02T10:49:18.375124",
     "exception": false,
     "start_time": "2021-05-02T10:49:18.343585",
     "status": "completed"
    },
    "tags": []
   },
   "outputs": [],
   "source": [
    "from tensorflow import feature_column\n",
    "\n",
    "feature_columns = []\n",
    "\n",
    "for i in range(50):\n",
    "    feature_columns.append(feature_column.numeric_column(f'feature_{i}'))"
   ]
  },
  {
   "cell_type": "markdown",
   "id": "valid-stanford",
   "metadata": {
    "papermill": {
     "duration": 0.020007,
     "end_time": "2021-05-02T10:49:18.415930",
     "exception": false,
     "start_time": "2021-05-02T10:49:18.395923",
     "status": "completed"
    },
    "tags": []
   },
   "source": [
    "<a id='model'></a>\n",
    "# The Model 👷‍♀️"
   ]
  },
  {
   "cell_type": "markdown",
   "id": "reflected-tractor",
   "metadata": {
    "papermill": {
     "duration": 0.019888,
     "end_time": "2021-05-02T10:49:18.456419",
     "exception": false,
     "start_time": "2021-05-02T10:49:18.436531",
     "status": "completed"
    },
    "tags": []
   },
   "source": [
    "We create a `feature_layer`, which will act as the first layer in our model. A batch size of 64 was arbitrarily chosen."
   ]
  },
  {
   "cell_type": "code",
   "execution_count": 8,
   "id": "sixth-particle",
   "metadata": {
    "execution": {
     "iopub.execute_input": "2021-05-02T10:49:18.500473Z",
     "iopub.status.busy": "2021-05-02T10:49:18.499640Z",
     "iopub.status.idle": "2021-05-02T10:49:18.749964Z",
     "shell.execute_reply": "2021-05-02T10:49:18.750488Z"
    },
    "papermill": {
     "duration": 0.274011,
     "end_time": "2021-05-02T10:49:18.750681",
     "exception": false,
     "start_time": "2021-05-02T10:49:18.476670",
     "status": "completed"
    },
    "tags": []
   },
   "outputs": [],
   "source": [
    "feature_layer = tf.keras.layers.DenseFeatures(feature_columns)\n",
    "\n",
    "batch_size = 64\n",
    "train_ds = df_to_dataset(train, batch_size=batch_size)\n",
    "val_ds = df_to_dataset(val, shuffle=False, batch_size=batch_size)\n",
    "test_ds = df_to_dataset(test, shuffle=False, batch_size=batch_size)"
   ]
  },
  {
   "cell_type": "markdown",
   "id": "dependent-desperate",
   "metadata": {
    "papermill": {
     "duration": 0.020879,
     "end_time": "2021-05-02T10:49:18.792879",
     "exception": false,
     "start_time": "2021-05-02T10:49:18.772000",
     "status": "completed"
    },
    "tags": []
   },
   "source": [
    "We just add a Dense layer in the end to act as a classification head for the model and compile using the `sgd` optimizer and the `sparse_categorical_crossentropy` loss function."
   ]
  },
  {
   "cell_type": "code",
   "execution_count": 9,
   "id": "classified-attitude",
   "metadata": {
    "execution": {
     "iopub.execute_input": "2021-05-02T10:49:18.848897Z",
     "iopub.status.busy": "2021-05-02T10:49:18.845344Z",
     "iopub.status.idle": "2021-05-02T10:49:18.873602Z",
     "shell.execute_reply": "2021-05-02T10:49:18.873036Z"
    },
    "papermill": {
     "duration": 0.059516,
     "end_time": "2021-05-02T10:49:18.873753",
     "exception": false,
     "start_time": "2021-05-02T10:49:18.814237",
     "status": "completed"
    },
    "tags": []
   },
   "outputs": [],
   "source": [
    "model = tf.keras.models.Sequential([\n",
    "        feature_layer,\n",
    "        tf.keras.layers.Dropout(0.5),\n",
    "        tf.keras.layers.Dense(4, activation='softmax')])\n",
    "\n",
    "model.compile(optimizer='sgd',\n",
    "              loss='sparse_categorical_crossentropy',\n",
    "              metrics=['accuracy'])"
   ]
  },
  {
   "cell_type": "markdown",
   "id": "quality-reach",
   "metadata": {
    "papermill": {
     "duration": 0.020226,
     "end_time": "2021-05-02T10:49:18.914668",
     "exception": false,
     "start_time": "2021-05-02T10:49:18.894442",
     "status": "completed"
    },
    "tags": []
   },
   "source": [
    "<a id='train'></a>\n",
    "# Training 💪🏻"
   ]
  },
  {
   "cell_type": "markdown",
   "id": "educational-crazy",
   "metadata": {
    "papermill": {
     "duration": 0.020376,
     "end_time": "2021-05-02T10:49:18.955764",
     "exception": false,
     "start_time": "2021-05-02T10:49:18.935388",
     "status": "completed"
    },
    "tags": []
   },
   "source": [
    "We train for a mere 10 epochs and the overfitting is quite obvious here. Better Regularization strategies + better feature selection can be extremely helpful moving forward. We'll also log our metrics to [Weights and Biases](https://wandb.ai/site) for efficient experiment tracking."
   ]
  },
  {
   "cell_type": "code",
   "execution_count": 10,
   "id": "relative-clearing",
   "metadata": {
    "execution": {
     "iopub.execute_input": "2021-05-02T10:49:19.004187Z",
     "iopub.status.busy": "2021-05-02T10:49:19.003441Z",
     "iopub.status.idle": "2021-05-02T10:49:52.349069Z",
     "shell.execute_reply": "2021-05-02T10:49:52.348378Z"
    },
    "papermill": {
     "duration": 33.372917,
     "end_time": "2021-05-02T10:49:52.349247",
     "exception": false,
     "start_time": "2021-05-02T10:49:18.976330",
     "status": "completed"
    },
    "tags": []
   },
   "outputs": [
    {
     "name": "stdout",
     "output_type": "stream",
     "text": [
      "Epoch 1/10\n",
      "750/750 - 6s - loss: 0.7997 - accuracy: 0.7844 - val_loss: 0.3898 - val_accuracy: 0.9145\n",
      "Epoch 2/10\n",
      "750/750 - 3s - loss: 0.3643 - accuracy: 0.9158 - val_loss: 0.3476 - val_accuracy: 0.9145\n",
      "Epoch 3/10\n",
      "750/750 - 3s - loss: 0.3376 - accuracy: 0.9158 - val_loss: 0.3326 - val_accuracy: 0.9145\n",
      "Epoch 4/10\n",
      "750/750 - 3s - loss: 0.3260 - accuracy: 0.9158 - val_loss: 0.3237 - val_accuracy: 0.9145\n",
      "Epoch 5/10\n",
      "750/750 - 3s - loss: 0.3184 - accuracy: 0.9158 - val_loss: 0.3180 - val_accuracy: 0.9145\n",
      "Epoch 6/10\n",
      "750/750 - 3s - loss: 0.3136 - accuracy: 0.9158 - val_loss: 0.3138 - val_accuracy: 0.9145\n",
      "Epoch 7/10\n",
      "750/750 - 3s - loss: 0.3102 - accuracy: 0.9158 - val_loss: 0.3113 - val_accuracy: 0.9145\n",
      "Epoch 8/10\n",
      "750/750 - 3s - loss: 0.3075 - accuracy: 0.9158 - val_loss: 0.3084 - val_accuracy: 0.9145\n",
      "Epoch 9/10\n",
      "750/750 - 3s - loss: 0.3054 - accuracy: 0.9158 - val_loss: 0.3069 - val_accuracy: 0.9145\n",
      "Epoch 10/10\n",
      "750/750 - 3s - loss: 0.3038 - accuracy: 0.9158 - val_loss: 0.3052 - val_accuracy: 0.9145\n"
     ]
    },
    {
     "data": {
      "text/plain": [
       "<tensorflow.python.keras.callbacks.History at 0x7f6c28112e90>"
      ]
     },
     "execution_count": 10,
     "metadata": {},
     "output_type": "execute_result"
    }
   ],
   "source": [
    "model.fit(train_ds,epochs = 10, verbose = 2,\n",
    "          validation_data=val_ds,\n",
    "          validation_steps = 100,\n",
    "          callbacks = [WandbCallback()])"
   ]
  },
  {
   "cell_type": "markdown",
   "id": "comprehensive-tongue",
   "metadata": {
    "papermill": {
     "duration": 0.0289,
     "end_time": "2021-05-02T10:49:52.406646",
     "exception": false,
     "start_time": "2021-05-02T10:49:52.377746",
     "status": "completed"
    },
    "tags": []
   },
   "source": [
    "We can evaluate on our test set and see the loss and accuracy. As, we can see the model overfits to a large extent."
   ]
  },
  {
   "cell_type": "code",
   "execution_count": 11,
   "id": "identified-bikini",
   "metadata": {
    "execution": {
     "iopub.execute_input": "2021-05-02T10:49:52.464204Z",
     "iopub.status.busy": "2021-05-02T10:49:52.463559Z",
     "iopub.status.idle": "2021-05-02T10:49:53.350450Z",
     "shell.execute_reply": "2021-05-02T10:49:53.349845Z"
    },
    "papermill": {
     "duration": 0.916715,
     "end_time": "2021-05-02T10:49:53.350592",
     "exception": false,
     "start_time": "2021-05-02T10:49:52.433877",
     "status": "completed"
    },
    "tags": []
   },
   "outputs": [
    {
     "name": "stdout",
     "output_type": "stream",
     "text": [
      "313/313 [==============================] - 1s 3ms/step - loss: 0.3043 - accuracy: 0.9151\n",
      "Accuracy 0.9150999784469604\n",
      "Loss 0.30434146523475647\n"
     ]
    }
   ],
   "source": [
    "loss, accuracy = model.evaluate(test_ds)\n",
    "print(\"Accuracy\", accuracy)\n",
    "print(\"Loss\", loss)"
   ]
  },
  {
   "cell_type": "markdown",
   "id": "cross-joining",
   "metadata": {
    "papermill": {
     "duration": 0.032886,
     "end_time": "2021-05-02T10:49:53.418892",
     "exception": false,
     "start_time": "2021-05-02T10:49:53.386006",
     "status": "completed"
    },
    "tags": []
   },
   "source": [
    "# Submission"
   ]
  },
  {
   "cell_type": "code",
   "execution_count": 12,
   "id": "remarkable-least",
   "metadata": {
    "execution": {
     "iopub.execute_input": "2021-05-02T10:49:53.492758Z",
     "iopub.status.busy": "2021-05-02T10:49:53.492116Z",
     "iopub.status.idle": "2021-05-02T10:49:57.178394Z",
     "shell.execute_reply": "2021-05-02T10:49:57.177027Z"
    },
    "papermill": {
     "duration": 3.72657,
     "end_time": "2021-05-02T10:49:57.178546",
     "exception": false,
     "start_time": "2021-05-02T10:49:53.451976",
     "status": "completed"
    },
    "tags": []
   },
   "outputs": [],
   "source": [
    "train_df = pd.read_csv('../input/tabular-playground-series-may-2021/train.csv')\n",
    "test_df = pd.read_csv('../input/tabular-playground-series-may-2021/test.csv')\n",
    "train_df = train_df.drop('id', axis = 1)\n",
    "test_df = test_df.drop('id', axis=1)\n",
    "\n",
    "for i in range(50):\n",
    "    mean, std = train_df[f'feature_{i}'].mean(), train_df[f'feature_{i}'].std()\n",
    "    test_df[f'feature_{i}'] = test_df[f'feature_{i}'].apply(lambda x : (x-mean)/std)"
   ]
  },
  {
   "cell_type": "code",
   "execution_count": 13,
   "id": "romantic-webcam",
   "metadata": {
    "execution": {
     "iopub.execute_input": "2021-05-02T10:49:57.254945Z",
     "iopub.status.busy": "2021-05-02T10:49:57.253076Z",
     "iopub.status.idle": "2021-05-02T10:49:57.324665Z",
     "shell.execute_reply": "2021-05-02T10:49:57.325194Z"
    },
    "papermill": {
     "duration": 0.113112,
     "end_time": "2021-05-02T10:49:57.325383",
     "exception": false,
     "start_time": "2021-05-02T10:49:57.212271",
     "status": "completed"
    },
    "tags": []
   },
   "outputs": [],
   "source": [
    "def df_to_dataset_test(dataframe, batch_size=32):\n",
    "    dataframe = dataframe.copy()\n",
    "    ds = tf.data.Dataset.from_tensor_slices(dict(dataframe))\n",
    "    ds = ds.batch(batch_size)\n",
    "    ds = ds.prefetch(batch_size)\n",
    "    return ds\n",
    "\n",
    "test_df = df_to_dataset_test(test_df, batch_size=batch_size)"
   ]
  },
  {
   "cell_type": "code",
   "execution_count": 14,
   "id": "incident-dispatch",
   "metadata": {
    "execution": {
     "iopub.execute_input": "2021-05-02T10:49:57.398199Z",
     "iopub.status.busy": "2021-05-02T10:49:57.397546Z",
     "iopub.status.idle": "2021-05-02T10:50:00.150126Z",
     "shell.execute_reply": "2021-05-02T10:50:00.149552Z"
    },
    "papermill": {
     "duration": 2.789265,
     "end_time": "2021-05-02T10:50:00.150306",
     "exception": false,
     "start_time": "2021-05-02T10:49:57.361041",
     "status": "completed"
    },
    "tags": []
   },
   "outputs": [
    {
     "data": {
      "text/html": [
       "<div>\n",
       "<style scoped>\n",
       "    .dataframe tbody tr th:only-of-type {\n",
       "        vertical-align: middle;\n",
       "    }\n",
       "\n",
       "    .dataframe tbody tr th {\n",
       "        vertical-align: top;\n",
       "    }\n",
       "\n",
       "    .dataframe thead th {\n",
       "        text-align: right;\n",
       "    }\n",
       "</style>\n",
       "<table border=\"1\" class=\"dataframe\">\n",
       "  <thead>\n",
       "    <tr style=\"text-align: right;\">\n",
       "      <th></th>\n",
       "      <th>id</th>\n",
       "      <th>Class_1</th>\n",
       "      <th>Class_2</th>\n",
       "      <th>Class_3</th>\n",
       "      <th>Class_4</th>\n",
       "    </tr>\n",
       "  </thead>\n",
       "  <tbody>\n",
       "    <tr>\n",
       "      <th>0</th>\n",
       "      <td>100000</td>\n",
       "      <td>0.900258</td>\n",
       "      <td>0.085768</td>\n",
       "      <td>0.006744</td>\n",
       "      <td>0.007230</td>\n",
       "    </tr>\n",
       "    <tr>\n",
       "      <th>1</th>\n",
       "      <td>100001</td>\n",
       "      <td>0.903497</td>\n",
       "      <td>0.083409</td>\n",
       "      <td>0.006768</td>\n",
       "      <td>0.006326</td>\n",
       "    </tr>\n",
       "    <tr>\n",
       "      <th>2</th>\n",
       "      <td>100002</td>\n",
       "      <td>0.914519</td>\n",
       "      <td>0.072834</td>\n",
       "      <td>0.006857</td>\n",
       "      <td>0.005790</td>\n",
       "    </tr>\n",
       "    <tr>\n",
       "      <th>3</th>\n",
       "      <td>100003</td>\n",
       "      <td>0.915672</td>\n",
       "      <td>0.071767</td>\n",
       "      <td>0.006650</td>\n",
       "      <td>0.005911</td>\n",
       "    </tr>\n",
       "    <tr>\n",
       "      <th>4</th>\n",
       "      <td>100004</td>\n",
       "      <td>0.917454</td>\n",
       "      <td>0.069082</td>\n",
       "      <td>0.006707</td>\n",
       "      <td>0.006757</td>\n",
       "    </tr>\n",
       "  </tbody>\n",
       "</table>\n",
       "</div>"
      ],
      "text/plain": [
       "       id   Class_1   Class_2   Class_3   Class_4\n",
       "0  100000  0.900258  0.085768  0.006744  0.007230\n",
       "1  100001  0.903497  0.083409  0.006768  0.006326\n",
       "2  100002  0.914519  0.072834  0.006857  0.005790\n",
       "3  100003  0.915672  0.071767  0.006650  0.005911\n",
       "4  100004  0.917454  0.069082  0.006707  0.006757"
      ]
     },
     "execution_count": 14,
     "metadata": {},
     "output_type": "execute_result"
    }
   ],
   "source": [
    "sample_submission[['Class_1','Class_2', 'Class_3', 'Class_4']] = model.predict(test_df)\n",
    "sample_submission.to_csv('densefeatures_submission.csv',index = False)\n",
    "sample_submission.head()"
   ]
  }
 ],
 "metadata": {
  "kernelspec": {
   "display_name": "Python 3",
   "language": "python",
   "name": "python3"
  },
  "language_info": {
   "codemirror_mode": {
    "name": "ipython",
    "version": 3
   },
   "file_extension": ".py",
   "mimetype": "text/x-python",
   "name": "python",
   "nbconvert_exporter": "python",
   "pygments_lexer": "ipython3",
   "version": "3.7.10"
  },
  "papermill": {
   "default_parameters": {},
   "duration": 81.332259,
   "end_time": "2021-05-02T10:50:02.793236",
   "environment_variables": {},
   "exception": null,
   "input_path": "__notebook__.ipynb",
   "output_path": "__notebook__.ipynb",
   "parameters": {},
   "start_time": "2021-05-02T10:48:41.460977",
   "version": "2.3.3"
  },
  "widgets": {
   "application/vnd.jupyter.widget-state+json": {
    "state": {
     "393f6acc771842ffbebd684cccfaed08": {
      "model_module": "@jupyter-widgets/controls",
      "model_module_version": "1.5.0",
      "model_name": "ProgressStyleModel",
      "state": {
       "_model_module": "@jupyter-widgets/controls",
       "_model_module_version": "1.5.0",
       "_model_name": "ProgressStyleModel",
       "_view_count": null,
       "_view_module": "@jupyter-widgets/base",
       "_view_module_version": "1.2.0",
       "_view_name": "StyleView",
       "bar_color": null,
       "description_width": ""
      }
     },
     "39eb366ffe824ad1b63e600df939db52": {
      "model_module": "@jupyter-widgets/base",
      "model_module_version": "1.2.0",
      "model_name": "LayoutModel",
      "state": {
       "_model_module": "@jupyter-widgets/base",
       "_model_module_version": "1.2.0",
       "_model_name": "LayoutModel",
       "_view_count": null,
       "_view_module": "@jupyter-widgets/base",
       "_view_module_version": "1.2.0",
       "_view_name": "LayoutView",
       "align_content": null,
       "align_items": null,
       "align_self": null,
       "border": null,
       "bottom": null,
       "display": null,
       "flex": null,
       "flex_flow": null,
       "grid_area": null,
       "grid_auto_columns": null,
       "grid_auto_flow": null,
       "grid_auto_rows": null,
       "grid_column": null,
       "grid_gap": null,
       "grid_row": null,
       "grid_template_areas": null,
       "grid_template_columns": null,
       "grid_template_rows": null,
       "height": null,
       "justify_content": null,
       "justify_items": null,
       "left": null,
       "margin": null,
       "max_height": null,
       "max_width": null,
       "min_height": null,
       "min_width": null,
       "object_fit": null,
       "object_position": null,
       "order": null,
       "overflow": null,
       "overflow_x": null,
       "overflow_y": null,
       "padding": null,
       "right": null,
       "top": null,
       "visibility": null,
       "width": null
      }
     },
     "6d04e8a7effa4879a006d1f29d206f04": {
      "model_module": "@jupyter-widgets/base",
      "model_module_version": "1.2.0",
      "model_name": "LayoutModel",
      "state": {
       "_model_module": "@jupyter-widgets/base",
       "_model_module_version": "1.2.0",
       "_model_name": "LayoutModel",
       "_view_count": null,
       "_view_module": "@jupyter-widgets/base",
       "_view_module_version": "1.2.0",
       "_view_name": "LayoutView",
       "align_content": null,
       "align_items": null,
       "align_self": null,
       "border": null,
       "bottom": null,
       "display": null,
       "flex": null,
       "flex_flow": null,
       "grid_area": null,
       "grid_auto_columns": null,
       "grid_auto_flow": null,
       "grid_auto_rows": null,
       "grid_column": null,
       "grid_gap": null,
       "grid_row": null,
       "grid_template_areas": null,
       "grid_template_columns": null,
       "grid_template_rows": null,
       "height": null,
       "justify_content": null,
       "justify_items": null,
       "left": null,
       "margin": null,
       "max_height": null,
       "max_width": null,
       "min_height": null,
       "min_width": null,
       "object_fit": null,
       "object_position": null,
       "order": null,
       "overflow": null,
       "overflow_x": null,
       "overflow_y": null,
       "padding": null,
       "right": null,
       "top": null,
       "visibility": null,
       "width": null
      }
     },
     "70a03932e0ee43ea81e6a52071bd1276": {
      "model_module": "@jupyter-widgets/controls",
      "model_module_version": "1.5.0",
      "model_name": "VBoxModel",
      "state": {
       "_dom_classes": [],
       "_model_module": "@jupyter-widgets/controls",
       "_model_module_version": "1.5.0",
       "_model_name": "VBoxModel",
       "_view_count": null,
       "_view_module": "@jupyter-widgets/controls",
       "_view_module_version": "1.5.0",
       "_view_name": "VBoxView",
       "box_style": "",
       "children": [
        "IPY_MODEL_e18d0ed447b946f89825c558a169f97d",
        "IPY_MODEL_75e99ed90a684e4f9b1062063973bbec"
       ],
       "layout": "IPY_MODEL_39eb366ffe824ad1b63e600df939db52"
      }
     },
     "75e99ed90a684e4f9b1062063973bbec": {
      "model_module": "@jupyter-widgets/controls",
      "model_module_version": "1.5.0",
      "model_name": "FloatProgressModel",
      "state": {
       "_dom_classes": [],
       "_model_module": "@jupyter-widgets/controls",
       "_model_module_version": "1.5.0",
       "_model_name": "FloatProgressModel",
       "_view_count": null,
       "_view_module": "@jupyter-widgets/controls",
       "_view_module_version": "1.5.0",
       "_view_name": "ProgressView",
       "bar_style": "",
       "description": "",
       "description_tooltip": null,
       "layout": "IPY_MODEL_9210201a13d94ba1bacbfbfda560095c",
       "max": 1.0,
       "min": 0.0,
       "orientation": "horizontal",
       "style": "IPY_MODEL_393f6acc771842ffbebd684cccfaed08",
       "value": 0.0
      }
     },
     "9210201a13d94ba1bacbfbfda560095c": {
      "model_module": "@jupyter-widgets/base",
      "model_module_version": "1.2.0",
      "model_name": "LayoutModel",
      "state": {
       "_model_module": "@jupyter-widgets/base",
       "_model_module_version": "1.2.0",
       "_model_name": "LayoutModel",
       "_view_count": null,
       "_view_module": "@jupyter-widgets/base",
       "_view_module_version": "1.2.0",
       "_view_name": "LayoutView",
       "align_content": null,
       "align_items": null,
       "align_self": null,
       "border": null,
       "bottom": null,
       "display": null,
       "flex": null,
       "flex_flow": null,
       "grid_area": null,
       "grid_auto_columns": null,
       "grid_auto_flow": null,
       "grid_auto_rows": null,
       "grid_column": null,
       "grid_gap": null,
       "grid_row": null,
       "grid_template_areas": null,
       "grid_template_columns": null,
       "grid_template_rows": null,
       "height": null,
       "justify_content": null,
       "justify_items": null,
       "left": null,
       "margin": null,
       "max_height": null,
       "max_width": null,
       "min_height": null,
       "min_width": null,
       "object_fit": null,
       "object_position": null,
       "order": null,
       "overflow": null,
       "overflow_x": null,
       "overflow_y": null,
       "padding": null,
       "right": null,
       "top": null,
       "visibility": null,
       "width": null
      }
     },
     "b360b11f14b541dfa870c05e4a9e7b69": {
      "model_module": "@jupyter-widgets/controls",
      "model_module_version": "1.5.0",
      "model_name": "DescriptionStyleModel",
      "state": {
       "_model_module": "@jupyter-widgets/controls",
       "_model_module_version": "1.5.0",
       "_model_name": "DescriptionStyleModel",
       "_view_count": null,
       "_view_module": "@jupyter-widgets/base",
       "_view_module_version": "1.2.0",
       "_view_name": "StyleView",
       "description_width": ""
      }
     },
     "e18d0ed447b946f89825c558a169f97d": {
      "model_module": "@jupyter-widgets/controls",
      "model_module_version": "1.5.0",
      "model_name": "LabelModel",
      "state": {
       "_dom_classes": [],
       "_model_module": "@jupyter-widgets/controls",
       "_model_module_version": "1.5.0",
       "_model_name": "LabelModel",
       "_view_count": null,
       "_view_module": "@jupyter-widgets/controls",
       "_view_module_version": "1.5.0",
       "_view_name": "LabelView",
       "description": "",
       "description_tooltip": null,
       "layout": "IPY_MODEL_6d04e8a7effa4879a006d1f29d206f04",
       "placeholder": "​",
       "style": "IPY_MODEL_b360b11f14b541dfa870c05e4a9e7b69",
       "value": ""
      }
     }
    },
    "version_major": 2,
    "version_minor": 0
   }
  }
 },
 "nbformat": 4,
 "nbformat_minor": 5
}
